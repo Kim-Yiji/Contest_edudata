{
 "cells": [
  {
   "cell_type": "code",
   "execution_count": 9,
   "id": "04053e28",
   "metadata": {},
   "outputs": [],
   "source": [
    "import os\n",
    "import json\n",
    "import pandas as pd\n",
    "\n",
    "# 예산 데이터 폴더 경로\n",
    "budget_dir = r\"C:\\Users\\USER\\OneDrive\\Desktop\\yonsei\\3_2\\ybigta\\교육데이터\\Kim-Yiji Contest_edudata yiji Database-schoolinfo_public_filtered\"\n",
    "\n",
    "# 파일명 리스트\n",
    "budget_files = {\n",
    "    2022: \"경기_공립_고등_결산_세입_2022.json\",\n",
    "    2023: \"경기_공립_고등_결산_세입_2023.json\",\n",
    "    2024: \"경기_공립_고등_결산_세입_2024.json\"\n",
    "}"
   ]
  },
  {
   "cell_type": "code",
   "execution_count": 12,
   "id": "71bf2bf5",
   "metadata": {},
   "outputs": [
    {
     "name": "stdout",
     "output_type": "stream",
     "text": [
      "     도교육청  기준연도       예산_AMT1\n",
      "0  경기도교육청  2022  808335087430\n",
      "1  경기도교육청  2023  855171127610\n",
      "2  경기도교육청  2024  931104917780\n"
     ]
    }
   ],
   "source": [
    "# 예산 데이터 저장용 리스트\n",
    "budget_data = []\n",
    "\n",
    "# 파일 읽고 데이터 쌓기\n",
    "for year, file_name in budget_files.items():\n",
    "    file_path = os.path.join(budget_dir, file_name)\n",
    "    with open(file_path, encoding='utf-8') as f:\n",
    "        data = json.load(f)\n",
    "        for entry in data[\"list\"]:\n",
    "            budget_data.append({\n",
    "                \"학교명\": entry[\"SCHUL_NM\"],\n",
    "                \"도교육청\": entry[\"ATPT_OFCDC_ORG_NM\"],\n",
    "                \"연도\": year,\n",
    "                \"예산_AMT1\": entry[\"AMT1\"]\n",
    "            })\n",
    "\n",
    "# DataFrame으로 변환\n",
    "budget_df = pd.DataFrame(budget_data)\n",
    "\n",
    "# 도별, 연도별 예산 합산 후 피벗벗\n",
    "budget_lagged = (\n",
    "    budget_df\n",
    "    .groupby([\"도교육청\", \"연도\"])[\"예산_AMT1\"]\n",
    "    .sum()\n",
    "    .reset_index()\n",
    "    .rename(columns={\"연도\": \"기준연도\"})\n",
    ")\n",
    "\n",
    "print(budget_lagged)"
   ]
  },
  {
   "cell_type": "code",
   "execution_count": 14,
   "id": "c3de4037",
   "metadata": {},
   "outputs": [
    {
     "name": "stdout",
     "output_type": "stream",
     "text": [
      "     도교육청  기준연도       예산_AMT1    보건_스코어\n",
      "0  경기도교육청  2022  808335087430  2.598988\n",
      "1  경기도교육청  2023  855171127610  6.084377\n",
      "2  경기도교육청  2024  931104917780  9.036657\n"
     ]
    }
   ],
   "source": [
    "# 보건실이용현황 데이터 로딩 및 도 단위 스코어 계산\n",
    "# 스코어 계산 하.. 어떻게 하지..\n",
    "health_path = r\"C:\\Users\\USER\\OneDrive\\Desktop\\yonsei\\3_2\\ybigta\\교육데이터\\edss_2차요청_데이터\\학교정보공시\\학생현황\\0306. 보건실이용현황(21-23)(경기)(70%).csv\"\n",
    "health_df = pd.read_csv(health_path, encoding=\"utf-8\")\n",
    "\n",
    "health_lagged = (\n",
    "    health_df\n",
    "    .groupby([\"시도교육청명\", \"공시년도\"])[\"연간1인당보건실이용건수\"]\n",
    "    .mean()\n",
    "    .reset_index()\n",
    "    .rename(columns={\"시도교육청명\": \"도교육청\", \"공시년도\": \"지표연도\", \"연간1인당보건실이용건수\": \"보건_스코어\"})\n",
    ")\n",
    "\n",
    "# 시차 반영영\n",
    "health_lagged[\"기준연도\"] = health_lagged[\"지표연도\"] + 1\n",
    "\n",
    "merged_lagged = pd.merge(\n",
    "    budget_lagged,\n",
    "    health_lagged[[\"도교육청\", \"기준연도\", \"보건_스코어\"]],\n",
    "    on=[\"도교육청\", \"기준연도\"],\n",
    "    how=\"inner\"\n",
    ")\n",
    "\n",
    "# 경기도교육청만 분석\n",
    "gyeonggi_lagged = merged_lagged[merged_lagged[\"도교육청\"] == \"경기도교육청\"].sort_values(\"기준연도\")\n",
    "\n",
    "print(gyeonggi_lagged)"
   ]
  },
  {
   "cell_type": "code",
   "execution_count": null,
   "id": "e0fc61fd",
   "metadata": {},
   "outputs": [
    {
     "name": "stdout",
     "output_type": "stream",
     "text": [
      "     도교육청  기준연도       예산_AMT1    보건_스코어         예상_예산            잔차  편차_비율(%)\n",
      "0  경기도교육청  2022  808335087430  2.598988  8.023466e+11  5.988462e+09      0.75\n",
      "1  경기도교육청  2023  855171127610  6.084377  8.682294e+11 -1.305829e+10     -1.50\n",
      "2  경기도교육청  2024  931104917780  9.036657  9.240351e+11  7.069830e+09      0.77\n"
     ]
    }
   ],
   "source": [
    "# 일단 단일로 분석해보자?\n",
    "\n",
    "from sklearn.linear_model import LinearRegression\n",
    "\n",
    "X = gyeonggi_lagged[[\"보건_스코어\"]]\n",
    "y = gyeonggi_lagged[\"예산_AMT1\"]\n",
    "\n",
    "model = LinearRegression()\n",
    "model.fit(X, y)\n",
    "\n",
    "# 예측 및 결과 계산\n",
    "gyeonggi_lagged[\"예상_예산\"] = model.predict(X)\n",
    "gyeonggi_lagged[\"잔차\"] = gyeonggi_lagged[\"예산_AMT1\"] - gyeonggi_lagged[\"예상_예산\"]\n",
    "gyeonggi_lagged[\"편차_비율(%)\"] = (gyeonggi_lagged[\"잔차\"] / gyeonggi_lagged[\"예상_예산\"] * 100).round(2)\n",
    "\n",
    "print(gyeonggi_lagged)"
   ]
  },
  {
   "cell_type": "code",
   "execution_count": 16,
   "id": "6a5c42a0",
   "metadata": {},
   "outputs": [],
   "source": [
    "# 급식 파트 급식비 집행률로 보려고 했는데...\n",
    "# 얘들 집행 잔액 없이 다 썼어.. 당연한거긴한데..\n",
    "xlsx_path = r\"C:\\Users\\USER\\OneDrive\\Desktop\\yonsei\\3_2\\ybigta\\교육데이터\\edss_2차요청_데이터\\학교정보공시\\학교현황\\0206. 급식실시현황(21-23)(경기)(70%).xlsx\"\n",
    "xls = pd.ExcelFile(xlsx_path)\n",
    "meal_status_df = xls.parse(\"Sheet1\")\n",
    "\n",
    "meal_status_df[\"조리총원\"] = (\n",
    "    meal_status_df[\"조리보조원수\"].fillna(0) +\n",
    "    meal_status_df[\"조리사수\"].fillna(0) +\n",
    "    meal_status_df[\"영양사수\"].fillna(0) + 1  # 0 나눗셈 방지\n",
    ")\n",
    "\n",
    "meal_status_df[\"급식서비스강도\"] = meal_status_df[\"급식학생수\"] / meal_status_df[\"조리총원\"]"
   ]
  },
  {
   "cell_type": "code",
   "execution_count": 17,
   "id": "252ee004",
   "metadata": {},
   "outputs": [],
   "source": [
    "meal_quality_df = (\n",
    "    meal_status_df\n",
    "    .groupby([\"시도교육청명\", \"공시년도\"])[\"급식서비스강도\"]\n",
    "    .mean()\n",
    "    .reset_index()\n",
    "    .rename(columns={\"급식서비스강도\": \"급식서비스_스코어\"})\n",
    ")"
   ]
  },
  {
   "cell_type": "code",
   "execution_count": 18,
   "id": "6d3374dd",
   "metadata": {},
   "outputs": [
    {
     "name": "stdout",
     "output_type": "stream",
     "text": [
      "   기준연도    급식_스코어    도교육청\n",
      "0  2022  0.012834  경기도교육청\n",
      "1  2023  0.012927  경기도교육청\n",
      "2  2024  0.013331  경기도교육청\n"
     ]
    }
   ],
   "source": [
    "meal_quality_df[\"기준연도\"] = meal_quality_df[\"공시년도\"] + 1\n",
    "meal_quality_df[\"급식_스코어\"] = 1 / meal_quality_df[\"급식서비스_스코어\"]\n",
    "\n",
    "final_meal_score = (\n",
    "    meal_quality_df[meal_quality_df[\"시도교육청명\"] == \"경기도교육청\"]\n",
    "    [[\"기준연도\", \"급식_스코어\"]]\n",
    "    .copy()\n",
    ")\n",
    "final_meal_score[\"도교육청\"] = \"경기도교육청\"\n",
    "final_meal_score.reset_index(drop=True, inplace=True)\n",
    "\n",
    "print(final_meal_score)"
   ]
  }
 ],
 "metadata": {
  "kernelspec": {
   "display_name": "base",
   "language": "python",
   "name": "python3"
  },
  "language_info": {
   "codemirror_mode": {
    "name": "ipython",
    "version": 3
   },
   "file_extension": ".py",
   "mimetype": "text/x-python",
   "name": "python",
   "nbconvert_exporter": "python",
   "pygments_lexer": "ipython3",
   "version": "3.9.17"
  }
 },
 "nbformat": 4,
 "nbformat_minor": 5
}
